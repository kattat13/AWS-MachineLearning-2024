{
 "cells": [
  {
   "cell_type": "markdown",
   "metadata": {},
   "source": [
    "# Introduction\n",
    "\n",
    "In this project, you will build a neural network of your own design to evaluate the MNIST dataset.\n",
    "\n",
    "Some of the benchmark results on MNIST include can be found [on Yann LeCun's page](https://webcache.googleusercontent.com/search?q=cache:stAVPik6onEJ:yann.lecun.com/exdb/mnist) and include:\n",
    "\n",
    "88% [Lecun et al., 1998](https://hal.science/hal-03926082/document)\n",
    "\n",
    "95.3% [Lecun et al., 1998](https://hal.science/hal-03926082v1/document)\n",
    "\n",
    "99.65% [Ciresan et al., 2011](http://people.idsia.ch/~juergen/ijcai2011.pdf)\n",
    "\n",
    "\n",
    "MNIST is a great dataset for sanity checking your models, since the accuracy levels achieved by large convolutional neural networks and small linear models are both quite high. This makes it important to be familiar with the data.\n",
    "\n",
    "## Installation"
   ]
  },
  {
   "cell_type": "code",
   "execution_count": 1,
   "metadata": {
    "scrolled": false
   },
   "outputs": [],
   "source": [
    "# Update the PATH to include the user installation directory. \n",
    "import os\n",
    "os.environ['PATH'] = f\"{os.environ['PATH']}:/root/.local/bin\"\n",
    "\n",
    "# Restart the Kernel before you move on to the next step."
   ]
  },
  {
   "cell_type": "markdown",
   "metadata": {},
   "source": [
    "#### Important: Restart the Kernel before you move on to the next step."
   ]
  },
  {
   "cell_type": "code",
   "execution_count": 2,
   "metadata": {
    "scrolled": true
   },
   "outputs": [
    {
     "name": "stdout",
     "output_type": "stream",
     "text": [
      "Defaulting to user installation because normal site-packages is not writeable\n",
      "Requirement already satisfied: opencv-python-headless==4.5.3.56 in /root/.local/lib/python3.7/site-packages (from -r requirements.txt (line 1)) (4.5.3.56)\n",
      "Requirement already satisfied: matplotlib==3.4.3 in /opt/conda/lib/python3.7/site-packages (from -r requirements.txt (line 2)) (3.4.3)\n",
      "Requirement already satisfied: numpy==1.21.2 in /opt/conda/lib/python3.7/site-packages (from -r requirements.txt (line 3)) (1.21.2)\n",
      "Requirement already satisfied: pillow==7.0.0 in /opt/conda/lib/python3.7/site-packages (from -r requirements.txt (line 4)) (7.0.0)\n",
      "Requirement already satisfied: bokeh==2.1.1 in /root/.local/lib/python3.7/site-packages (from -r requirements.txt (line 5)) (2.1.1)\n",
      "Requirement already satisfied: torch==1.11.0 in /opt/conda/lib/python3.7/site-packages (from -r requirements.txt (line 6)) (1.11.0)\n",
      "Requirement already satisfied: torchvision==0.12.0 in /root/.local/lib/python3.7/site-packages (from -r requirements.txt (line 7)) (0.12.0)\n",
      "Requirement already satisfied: tqdm==4.63.0 in /root/.local/lib/python3.7/site-packages (from -r requirements.txt (line 8)) (4.63.0)\n",
      "Requirement already satisfied: ipywidgets==7.7.0 in /root/.local/lib/python3.7/site-packages (from -r requirements.txt (line 9)) (7.7.0)\n",
      "Requirement already satisfied: livelossplot==0.5.4 in /root/.local/lib/python3.7/site-packages (from -r requirements.txt (line 10)) (0.5.4)\n",
      "Requirement already satisfied: pytest==7.1.1 in /root/.local/lib/python3.7/site-packages (from -r requirements.txt (line 11)) (7.1.1)\n",
      "Requirement already satisfied: pandas==1.3.5 in /root/.local/lib/python3.7/site-packages (from -r requirements.txt (line 12)) (1.3.5)\n",
      "Requirement already satisfied: seaborn==0.11.2 in /root/.local/lib/python3.7/site-packages (from -r requirements.txt (line 13)) (0.11.2)\n",
      "Requirement already satisfied: jupyter==1.0.0 in /root/.local/lib/python3.7/site-packages (from -r requirements.txt (line 14)) (1.0.0)\n",
      "Requirement already satisfied: ipykernel==4.10.0 in /root/.local/lib/python3.7/site-packages (from -r requirements.txt (line 15)) (4.10.0)\n",
      "Requirement already satisfied: pyparsing>=2.2.1 in /opt/conda/lib/python3.7/site-packages (from matplotlib==3.4.3->-r requirements.txt (line 2)) (2.4.6)\n",
      "Requirement already satisfied: python-dateutil>=2.7 in /opt/conda/lib/python3.7/site-packages (from matplotlib==3.4.3->-r requirements.txt (line 2)) (2.8.1)\n",
      "Requirement already satisfied: kiwisolver>=1.0.1 in /opt/conda/lib/python3.7/site-packages (from matplotlib==3.4.3->-r requirements.txt (line 2)) (1.1.0)\n",
      "Requirement already satisfied: cycler>=0.10 in /opt/conda/lib/python3.7/site-packages (from matplotlib==3.4.3->-r requirements.txt (line 2)) (0.10.0)\n",
      "Requirement already satisfied: Jinja2>=2.7 in /opt/conda/lib/python3.7/site-packages (from bokeh==2.1.1->-r requirements.txt (line 5)) (2.11.1)\n",
      "Requirement already satisfied: PyYAML>=3.10 in /opt/conda/lib/python3.7/site-packages (from bokeh==2.1.1->-r requirements.txt (line 5)) (5.3)\n",
      "Requirement already satisfied: tornado>=5.1 in /opt/conda/lib/python3.7/site-packages (from bokeh==2.1.1->-r requirements.txt (line 5)) (5.1.1)\n",
      "Requirement already satisfied: packaging>=16.8 in /opt/conda/lib/python3.7/site-packages (from bokeh==2.1.1->-r requirements.txt (line 5)) (20.1)\n",
      "Requirement already satisfied: typing-extensions>=3.7.4 in /opt/conda/lib/python3.7/site-packages (from bokeh==2.1.1->-r requirements.txt (line 5)) (3.7.4.1)\n",
      "Requirement already satisfied: requests in /opt/conda/lib/python3.7/site-packages (from torchvision==0.12.0->-r requirements.txt (line 7)) (2.23.0)\n",
      "Requirement already satisfied: ipython>=4.0.0; python_version >= \"3.3\" in /opt/conda/lib/python3.7/site-packages (from ipywidgets==7.7.0->-r requirements.txt (line 9)) (7.13.0)\n",
      "Requirement already satisfied: ipython-genutils~=0.2.0 in /opt/conda/lib/python3.7/site-packages (from ipywidgets==7.7.0->-r requirements.txt (line 9)) (0.2.0)\n",
      "Requirement already satisfied: traitlets>=4.3.1 in /opt/conda/lib/python3.7/site-packages (from ipywidgets==7.7.0->-r requirements.txt (line 9)) (4.3.3)\n",
      "Requirement already satisfied: widgetsnbextension~=3.6.0 in /root/.local/lib/python3.7/site-packages (from ipywidgets==7.7.0->-r requirements.txt (line 9)) (3.6.6)\n",
      "Requirement already satisfied: nbformat>=4.2.0 in /opt/conda/lib/python3.7/site-packages (from ipywidgets==7.7.0->-r requirements.txt (line 9)) (5.0.4)\n",
      "Requirement already satisfied: jupyterlab-widgets>=1.0.0; python_version >= \"3.6\" in /root/.local/lib/python3.7/site-packages (from ipywidgets==7.7.0->-r requirements.txt (line 9)) (3.0.11)\n",
      "Requirement already satisfied: pluggy<2.0,>=0.12 in /root/.local/lib/python3.7/site-packages (from pytest==7.1.1->-r requirements.txt (line 11)) (1.2.0)\n",
      "Requirement already satisfied: py>=1.8.2 in /root/.local/lib/python3.7/site-packages (from pytest==7.1.1->-r requirements.txt (line 11)) (1.11.0)\n",
      "Requirement already satisfied: tomli>=1.0.0 in /root/.local/lib/python3.7/site-packages (from pytest==7.1.1->-r requirements.txt (line 11)) (2.0.1)\n",
      "Requirement already satisfied: importlib-metadata>=0.12; python_version < \"3.8\" in /opt/conda/lib/python3.7/site-packages (from pytest==7.1.1->-r requirements.txt (line 11)) (1.5.0)\n",
      "Requirement already satisfied: attrs>=19.2.0 in /opt/conda/lib/python3.7/site-packages (from pytest==7.1.1->-r requirements.txt (line 11)) (19.3.0)\n",
      "Requirement already satisfied: iniconfig in /root/.local/lib/python3.7/site-packages (from pytest==7.1.1->-r requirements.txt (line 11)) (2.0.0)\n",
      "Requirement already satisfied: pytz>=2017.3 in /opt/conda/lib/python3.7/site-packages (from pandas==1.3.5->-r requirements.txt (line 12)) (2019.3)\n",
      "Requirement already satisfied: scipy>=1.0 in /opt/conda/lib/python3.7/site-packages (from seaborn==0.11.2->-r requirements.txt (line 13)) (1.7.1)\n",
      "Requirement already satisfied: qtconsole in /root/.local/lib/python3.7/site-packages (from jupyter==1.0.0->-r requirements.txt (line 14)) (5.4.4)\n",
      "Requirement already satisfied: nbconvert in /opt/conda/lib/python3.7/site-packages (from jupyter==1.0.0->-r requirements.txt (line 14)) (5.6.1)\n",
      "Requirement already satisfied: jupyter-console in /root/.local/lib/python3.7/site-packages (from jupyter==1.0.0->-r requirements.txt (line 14)) (6.6.3)\n",
      "Requirement already satisfied: notebook in /opt/conda/lib/python3.7/site-packages (from jupyter==1.0.0->-r requirements.txt (line 14)) (5.7.4)\n",
      "Requirement already satisfied: jupyter-client in /opt/conda/lib/python3.7/site-packages (from ipykernel==4.10.0->-r requirements.txt (line 15)) (6.0.0)\n",
      "Requirement already satisfied: six>=1.5 in /opt/conda/lib/python3.7/site-packages (from python-dateutil>=2.7->matplotlib==3.4.3->-r requirements.txt (line 2)) (1.16.0)\n",
      "Requirement already satisfied: setuptools in /opt/conda/lib/python3.7/site-packages (from kiwisolver>=1.0.1->matplotlib==3.4.3->-r requirements.txt (line 2)) (45.2.0.post20200209)\n",
      "Requirement already satisfied: MarkupSafe>=0.23 in /opt/conda/lib/python3.7/site-packages (from Jinja2>=2.7->bokeh==2.1.1->-r requirements.txt (line 5)) (1.1.1)\n",
      "Requirement already satisfied: certifi>=2017.4.17 in /opt/conda/lib/python3.7/site-packages (from requests->torchvision==0.12.0->-r requirements.txt (line 7)) (2019.11.28)\n",
      "Requirement already satisfied: urllib3!=1.25.0,!=1.25.1,<1.26,>=1.21.1 in /opt/conda/lib/python3.7/site-packages (from requests->torchvision==0.12.0->-r requirements.txt (line 7)) (1.25.7)\n",
      "Requirement already satisfied: idna<3,>=2.5 in /opt/conda/lib/python3.7/site-packages (from requests->torchvision==0.12.0->-r requirements.txt (line 7)) (2.9)\n",
      "Requirement already satisfied: chardet<4,>=3.0.2 in /opt/conda/lib/python3.7/site-packages (from requests->torchvision==0.12.0->-r requirements.txt (line 7)) (3.0.4)\n",
      "Requirement already satisfied: pickleshare in /opt/conda/lib/python3.7/site-packages (from ipython>=4.0.0; python_version >= \"3.3\"->ipywidgets==7.7.0->-r requirements.txt (line 9)) (0.7.5)\n",
      "Requirement already satisfied: jedi>=0.10 in /opt/conda/lib/python3.7/site-packages (from ipython>=4.0.0; python_version >= \"3.3\"->ipywidgets==7.7.0->-r requirements.txt (line 9)) (0.16.0)\n",
      "Requirement already satisfied: prompt-toolkit!=3.0.0,!=3.0.1,<3.1.0,>=2.0.0 in /opt/conda/lib/python3.7/site-packages (from ipython>=4.0.0; python_version >= \"3.3\"->ipywidgets==7.7.0->-r requirements.txt (line 9)) (3.0.3)\n",
      "Requirement already satisfied: pexpect; sys_platform != \"win32\" in /opt/conda/lib/python3.7/site-packages (from ipython>=4.0.0; python_version >= \"3.3\"->ipywidgets==7.7.0->-r requirements.txt (line 9)) (4.8.0)\n",
      "Requirement already satisfied: decorator in /opt/conda/lib/python3.7/site-packages (from ipython>=4.0.0; python_version >= \"3.3\"->ipywidgets==7.7.0->-r requirements.txt (line 9)) (4.4.2)\n",
      "Requirement already satisfied: pygments in /opt/conda/lib/python3.7/site-packages (from ipython>=4.0.0; python_version >= \"3.3\"->ipywidgets==7.7.0->-r requirements.txt (line 9)) (2.5.2)\n",
      "Requirement already satisfied: backcall in /opt/conda/lib/python3.7/site-packages (from ipython>=4.0.0; python_version >= \"3.3\"->ipywidgets==7.7.0->-r requirements.txt (line 9)) (0.1.0)\n",
      "Requirement already satisfied: jupyter-core in /opt/conda/lib/python3.7/site-packages (from nbformat>=4.2.0->ipywidgets==7.7.0->-r requirements.txt (line 9)) (4.6.3)\n",
      "Requirement already satisfied: jsonschema!=2.5.0,>=2.4 in /opt/conda/lib/python3.7/site-packages (from nbformat>=4.2.0->ipywidgets==7.7.0->-r requirements.txt (line 9)) (3.2.0)\n"
     ]
    },
    {
     "name": "stdout",
     "output_type": "stream",
     "text": [
      "Requirement already satisfied: zipp>=0.5 in /opt/conda/lib/python3.7/site-packages (from importlib-metadata>=0.12; python_version < \"3.8\"->pytest==7.1.1->-r requirements.txt (line 11)) (3.0.0)\n",
      "Requirement already satisfied: qtpy>=2.4.0 in /root/.local/lib/python3.7/site-packages (from qtconsole->jupyter==1.0.0->-r requirements.txt (line 14)) (2.4.1)\n",
      "Requirement already satisfied: pyzmq>=17.1 in /opt/conda/lib/python3.7/site-packages (from qtconsole->jupyter==1.0.0->-r requirements.txt (line 14)) (19.0.0)\n",
      "Requirement already satisfied: defusedxml in /opt/conda/lib/python3.7/site-packages (from nbconvert->jupyter==1.0.0->-r requirements.txt (line 14)) (0.6.0)\n",
      "Requirement already satisfied: pandocfilters>=1.4.1 in /opt/conda/lib/python3.7/site-packages (from nbconvert->jupyter==1.0.0->-r requirements.txt (line 14)) (1.4.2)\n",
      "Requirement already satisfied: testpath in /opt/conda/lib/python3.7/site-packages (from nbconvert->jupyter==1.0.0->-r requirements.txt (line 14)) (0.4.4)\n",
      "Requirement already satisfied: entrypoints>=0.2.2 in /opt/conda/lib/python3.7/site-packages (from nbconvert->jupyter==1.0.0->-r requirements.txt (line 14)) (0.3)\n",
      "Requirement already satisfied: mistune<2,>=0.8.1 in /opt/conda/lib/python3.7/site-packages (from nbconvert->jupyter==1.0.0->-r requirements.txt (line 14)) (0.8.4)\n",
      "Requirement already satisfied: bleach in /opt/conda/lib/python3.7/site-packages (from nbconvert->jupyter==1.0.0->-r requirements.txt (line 14)) (3.1.1)\n",
      "Requirement already satisfied: Send2Trash in /opt/conda/lib/python3.7/site-packages (from notebook->jupyter==1.0.0->-r requirements.txt (line 14)) (1.5.0)\n",
      "Requirement already satisfied: terminado>=0.8.1 in /opt/conda/lib/python3.7/site-packages (from notebook->jupyter==1.0.0->-r requirements.txt (line 14)) (0.8.3)\n",
      "Requirement already satisfied: prometheus-client in /opt/conda/lib/python3.7/site-packages (from notebook->jupyter==1.0.0->-r requirements.txt (line 14)) (0.7.1)\n",
      "Requirement already satisfied: parso>=0.5.2 in /opt/conda/lib/python3.7/site-packages (from jedi>=0.10->ipython>=4.0.0; python_version >= \"3.3\"->ipywidgets==7.7.0->-r requirements.txt (line 9)) (0.6.1)\n",
      "Requirement already satisfied: wcwidth in /opt/conda/lib/python3.7/site-packages (from prompt-toolkit!=3.0.0,!=3.0.1,<3.1.0,>=2.0.0->ipython>=4.0.0; python_version >= \"3.3\"->ipywidgets==7.7.0->-r requirements.txt (line 9)) (0.1.8)\n",
      "Requirement already satisfied: ptyprocess>=0.5 in /opt/conda/lib/python3.7/site-packages (from pexpect; sys_platform != \"win32\"->ipython>=4.0.0; python_version >= \"3.3\"->ipywidgets==7.7.0->-r requirements.txt (line 9)) (0.6.0)\n",
      "Requirement already satisfied: pyrsistent>=0.14.0 in /opt/conda/lib/python3.7/site-packages (from jsonschema!=2.5.0,>=2.4->nbformat>=4.2.0->ipywidgets==7.7.0->-r requirements.txt (line 9)) (0.15.7)\n",
      "Requirement already satisfied: webencodings in /opt/conda/lib/python3.7/site-packages (from bleach->nbconvert->jupyter==1.0.0->-r requirements.txt (line 14)) (0.5.1)\n"
     ]
    }
   ],
   "source": [
    "# Install requirements\n",
    "!python -m pip install -r requirements.txt"
   ]
  },
  {
   "cell_type": "markdown",
   "metadata": {},
   "source": [
    "## Imports"
   ]
  },
  {
   "cell_type": "code",
   "execution_count": 3,
   "metadata": {
    "scrolled": false
   },
   "outputs": [],
   "source": [
    "## This cell contains the essential imports you will need – DO NOT CHANGE THE CONTENTS! ##\n",
    "import torch\n",
    "import torch.nn as nn\n",
    "import torch.nn.functional as F\n",
    "import torch.optim as optim\n",
    "import torchvision\n",
    "import torchvision.transforms as transforms\n",
    "import matplotlib.pyplot as plt\n",
    "import numpy as np\n",
    "from sklearn.model_selection import train_test_split"
   ]
  },
  {
   "cell_type": "code",
   "execution_count": 4,
   "metadata": {},
   "outputs": [
    {
     "data": {
      "text/plain": [
       "device(type='cuda')"
      ]
     },
     "execution_count": 4,
     "metadata": {},
     "output_type": "execute_result"
    }
   ],
   "source": [
    "device = torch.device('cuda' if torch.cuda.is_available() else 'cpu')\n",
    "device"
   ]
  },
  {
   "cell_type": "markdown",
   "metadata": {},
   "source": [
    "## Load the Dataset\n",
    "\n",
    "Specify your transforms as a list if you intend to .\n",
    "The transforms module is already loaded as `transforms`.\n",
    "\n",
    "MNIST is fortunately included in the torchvision module.\n",
    "Then, you can create your dataset using the `MNIST` object from `torchvision.datasets` ([the documentation is available here](https://pytorch.org/vision/stable/datasets.html#mnist)).\n",
    "Make sure to specify `download=True`! \n",
    "\n",
    "Once your dataset is created, you'll also need to define a `DataLoader` from the `torch.utils.data` module for both the train and the test set."
   ]
  },
  {
   "cell_type": "code",
   "execution_count": 5,
   "metadata": {
    "scrolled": false
   },
   "outputs": [],
   "source": [
    "# Define transforms\n",
    "transform = transforms.Compose([\n",
    "    transforms.ToTensor(), \n",
    "    transforms.Normalize((0.5), (0.5))\n",
    "])\n",
    "\n",
    "# Create training set \n",
    "train = torchvision.datasets.MNIST(root='data', download=True, train=True, transform=transform)\n",
    "\n",
    "# Create test set and define test dataloader\n",
    "test = torchvision.datasets.MNIST(root='data', download=True, train=False, transform=transform)\n",
    "test_loader = torch.utils.data.DataLoader(test, batch_size=32)\n"
   ]
  },
  {
   "cell_type": "code",
   "execution_count": 6,
   "metadata": {},
   "outputs": [],
   "source": [
    "# Create validation set from train dataset\n",
    "\n",
    "train_set, val_set = train_test_split(train, test_size=0.2, random_state=13)\n",
    "\n",
    "# define train and val dataloader\n",
    "train_loader = torch.utils.data.DataLoader(train_set, batch_size=32, shuffle=True)\n",
    "val_loader   = torch.utils.data.DataLoader(val_set, batch_size=32)"
   ]
  },
  {
   "cell_type": "markdown",
   "metadata": {},
   "source": [
    "## Justify your preprocessing\n",
    "\n",
    "In your own words, why did you choose the transforms you chose? If you didn't use any preprocessing steps, why not?"
   ]
  },
  {
   "cell_type": "markdown",
   "metadata": {},
   "source": [
    "While the MNIST dataset is preprocessed to some extent, it's still beneficial to preprocess it further using PyTorch transforms for a few reasons:\n",
    "\n",
    "- Normalization: MNIST images have pixel values ranging from 0 to 255. Neural networks typically work better with data normalized to a smaller range, like 0 to 1 or -1 to 1. PyTorch's transforms.Normalize helps achieve this.\n",
    "- Tensor Conversion: The MNIST dataset is loaded as PIL images by default. For training in PyTorch models, the data needs to be in tensor format. transforms.ToTensor() converts PIL images to tensors."
   ]
  },
  {
   "cell_type": "markdown",
   "metadata": {},
   "source": [
    "## Explore the Dataset\n",
    "Using matplotlib, numpy, and torch, explore the dimensions of your data.\n",
    "\n",
    "You can view images using the `show5` function defined below – it takes a data loader as an argument.\n",
    "Remember that normalized images will look really weird to you! You may want to try changing your transforms to view images.\n",
    "Typically using no transforms other than `toTensor()` works well for viewing – but not as well for training your network.\n",
    "If `show5` doesn't work, go back and check your code for creating your data loaders and your training/test sets."
   ]
  },
  {
   "cell_type": "code",
   "execution_count": 7,
   "metadata": {
    "scrolled": false
   },
   "outputs": [],
   "source": [
    "## This cell contains a function for showing 5 images from a dataloader – DO NOT CHANGE THE CONTENTS! ##\n",
    "def show5(img_loader):\n",
    "    dataiter = iter(img_loader)\n",
    "    \n",
    "    batch = next(dataiter)\n",
    "    labels = batch[1][0:5]\n",
    "    images = batch[0][0:5]\n",
    "    for i in range(5):\n",
    "        print(int(labels[i].detach()))\n",
    "    \n",
    "        image = images[i].numpy()\n",
    "        plt.imshow(image.T.squeeze().T)\n",
    "        plt.show()"
   ]
  },
  {
   "cell_type": "code",
   "execution_count": 8,
   "metadata": {
    "scrolled": true
   },
   "outputs": [
    {
     "name": "stdout",
     "output_type": "stream",
     "text": [
      "Training size: 60000\n",
      "Test size: 10000\n"
     ]
    }
   ],
   "source": [
    "print(f'Training size: {len(train)}')\n",
    "print(f'Test size: {len(test)}')"
   ]
  },
  {
   "cell_type": "code",
   "execution_count": 9,
   "metadata": {},
   "outputs": [
    {
     "data": {
      "text/plain": [
       "1500"
      ]
     },
     "execution_count": 9,
     "metadata": {},
     "output_type": "execute_result"
    }
   ],
   "source": [
    "len(train_loader)"
   ]
  },
  {
   "cell_type": "code",
   "execution_count": 10,
   "metadata": {},
   "outputs": [
    {
     "data": {
      "text/plain": [
       "375"
      ]
     },
     "execution_count": 10,
     "metadata": {},
     "output_type": "execute_result"
    }
   ],
   "source": [
    "len(val_loader)"
   ]
  },
  {
   "cell_type": "code",
   "execution_count": 11,
   "metadata": {},
   "outputs": [
    {
     "data": {
      "text/plain": [
       "313"
      ]
     },
     "execution_count": 11,
     "metadata": {},
     "output_type": "execute_result"
    }
   ],
   "source": [
    "len(test_loader)"
   ]
  },
  {
   "cell_type": "code",
   "execution_count": 12,
   "metadata": {
    "scrolled": true
   },
   "outputs": [
    {
     "name": "stdout",
     "output_type": "stream",
     "text": [
      "6\n"
     ]
    },
    {
     "data": {
      "image/png": "[encoded data removed]",
      "text/plain": [
       "<Figure size 432x288 with 1 Axes>"
      ]
     },
     "metadata": {
      "needs_background": "light"
     },
     "output_type": "display_data"
    },
    {
     "name": "stdout",
     "output_type": "stream",
     "text": [
      "8\n"
     ]
    },
    {
     "data": {
      "image/png": "[encoded data removed]",
      "text/plain": [
       "<Figure size 432x288 with 1 Axes>"
      ]
     },
     "metadata": {
      "needs_background": "light"
     },
     "output_type": "display_data"
    },
    {
     "name": "stdout",
     "output_type": "stream",
     "text": [
      "8\n"
     ]
    },
    {
     "data": {
      "image/png": "[encoded data removed]",
      "text/plain": [
       "<Figure size 432x288 with 1 Axes>"
      ]
     },
     "metadata": {
      "needs_background": "light"
     },
     "output_type": "display_data"
    },
    {
     "name": "stdout",
     "output_type": "stream",
     "text": [
      "0\n"
     ]
    },
    {
     "data": {
      "image/png": "[encoded data removed]",
      "text/plain": [
       "<Figure size 432x288 with 1 Axes>"
      ]
     },
     "metadata": {
      "needs_background": "light"
     },
     "output_type": "display_data"
    },
    {
     "name": "stdout",
     "output_type": "stream",
     "text": [
      "4\n"
     ]
    },
    {
     "data": {
      "image/png": "[encoded data removed]",
      "text/plain": [
       "<Figure size 432x288 with 1 Axes>"
      ]
     },
     "metadata": {
      "needs_background": "light"
     },
     "output_type": "display_data"
    }
   ],
   "source": [
    "# Explore data\n",
    "show5(train_loader)"
   ]
  },
  {
   "cell_type": "markdown",
   "metadata": {},
   "source": [
    "## Build your Neural Network\n",
    "Using the layers in `torch.nn` (which has been imported as `nn`) and the `torch.nn.functional` module (imported as `F`), construct a neural network based on the parameters of the dataset.\n",
    "Use any architecture you like. \n",
    "\n",
    "*Note*: If you did not flatten your tensors in your transforms or as part of your preprocessing and you are using only `Linear` layers, make sure to use the `Flatten` layer in your network!"
   ]
  },
  {
   "cell_type": "code",
   "execution_count": 13,
   "metadata": {},
   "outputs": [
    {
     "data": {
      "text/plain": [
       "Net(\n",
       "  (fc1): Linear(in_features=784, out_features=120, bias=True)\n",
       "  (fc2): Linear(in_features=120, out_features=84, bias=True)\n",
       "  (fc3): Linear(in_features=84, out_features=10, bias=True)\n",
       ")"
      ]
     },
     "execution_count": 13,
     "metadata": {},
     "output_type": "execute_result"
    }
   ],
   "source": [
    "class Net(nn.Module):\n",
    "    def __init__(self):\n",
    "        super().__init__()\n",
    "        self.activation = F.relu\n",
    "        self.fc1 = nn.Linear(1 * 28 * 28, 120)\n",
    "        self.fc2 = nn.Linear(120, 84)\n",
    "        self.fc3 = nn.Linear(84, 10)\n",
    "\n",
    "    def forward(self, x):\n",
    "        x = torch.flatten(x, 1) # flatten all dimensions except batch\n",
    "        x = self.activation(self.fc1(x))\n",
    "        x = self.activation(self.fc2(x))\n",
    "        x = self.fc3(x)\n",
    "        return x\n",
    "\n",
    "# Instantiate the model\n",
    "net = Net()\n",
    "net.to(device)"
   ]
  },
  {
   "cell_type": "markdown",
   "metadata": {},
   "source": [
    "Specify a loss function and an optimizer, and instantiate the model.\n",
    "\n",
    "If you use a less common loss function, please note why you chose that loss function in a comment."
   ]
  },
  {
   "cell_type": "code",
   "execution_count": 14,
   "metadata": {
    "scrolled": false
   },
   "outputs": [],
   "source": [
    "criterion = nn.CrossEntropyLoss()\n",
    "optimizer = optim.SGD(net.parameters(), lr=0.01)"
   ]
  },
  {
   "cell_type": "markdown",
   "metadata": {},
   "source": [
    "## Running your Neural Network\n",
    "Use whatever method you like to train your neural network, and ensure you record the average loss at each epoch. \n",
    "Don't forget to use `torch.device()` and the `.to()` method for both your model and your data if you are using GPU!\n",
    "\n",
    "If you want to print your loss **during** each epoch, you can use the `enumerate` function and print the loss after a set number of batches. 250 batches works well for most people!"
   ]
  },
  {
   "cell_type": "code",
   "execution_count": 15,
   "metadata": {},
   "outputs": [
    {
     "name": "stdout",
     "output_type": "stream",
     "text": [
      "EPOCH 0\n",
      "...........................................................................\n",
      "training accuracy: 24.86% training loss: 0.81666\n",
      "validation accuracy: 28.40% validation loss: 0.39029\n",
      "EPOCH 1\n",
      "...........................................................................\n",
      "training accuracy: 28.80% training loss: 0.33802\n",
      "validation accuracy: 29.13% validation loss: 0.31007\n",
      "EPOCH 2\n",
      "...........................................................................\n",
      "training accuracy: 29.31% training loss: 0.28505\n",
      "validation accuracy: 29.41% validation loss: 0.28027\n",
      "EPOCH 3\n",
      "...........................................................................\n",
      "training accuracy: 29.65% training loss: 0.24651\n",
      "validation accuracy: 29.73% validation loss: 0.23792\n",
      "EPOCH 4\n",
      "...........................................................................\n",
      "training accuracy: 29.92% training loss: 0.21639\n",
      "validation accuracy: 29.82% validation loss: 0.22596\n",
      "EPOCH 5\n",
      "...........................................................................\n",
      "training accuracy: 30.20% training loss: 0.19096\n",
      "validation accuracy: 30.19% validation loss: 0.19350\n",
      "EPOCH 6\n",
      "...........................................................................\n",
      "training accuracy: 30.38% training loss: 0.17065\n",
      "validation accuracy: 30.26% validation loss: 0.18309\n",
      "EPOCH 7\n",
      "...........................................................................\n",
      "training accuracy: 30.53% training loss: 0.15358\n",
      "validation accuracy: 30.50% validation loss: 0.16509\n",
      "EPOCH 8\n",
      "...........................................................................\n",
      "training accuracy: 30.68% training loss: 0.13905\n",
      "validation accuracy: 30.59% validation loss: 0.15436\n",
      "EPOCH 9\n",
      "...........................................................................\n",
      "training accuracy: 30.79% training loss: 0.12707\n",
      "validation accuracy: 30.53% validation loss: 0.14914\n",
      "EPOCH 10\n",
      "...........................................................................\n",
      "training accuracy: 30.88% training loss: 0.11677\n",
      "validation accuracy: 30.70% validation loss: 0.13791\n",
      "EPOCH 11\n",
      "...........................................................................\n",
      "training accuracy: 30.99% training loss: 0.10685\n",
      "validation accuracy: 30.73% validation loss: 0.13150\n",
      "EPOCH 12\n",
      "...........................................................................\n",
      "training accuracy: 31.05% training loss: 0.09941\n",
      "validation accuracy: 30.84% validation loss: 0.12313\n",
      "EPOCH 13\n",
      "...........................................................................\n",
      "training accuracy: 31.12% training loss: 0.09236\n",
      "validation accuracy: 30.74% validation loss: 0.12916\n",
      "EPOCH 14\n",
      "...........................................................................\n",
      "training accuracy: 31.20% training loss: 0.08506\n",
      "validation accuracy: 30.93% validation loss: 0.11165\n",
      "EPOCH 15\n",
      "...........................................................................\n",
      "training accuracy: 31.25% training loss: 0.07996\n",
      "validation accuracy: 30.99% validation loss: 0.10654\n",
      "EPOCH 16\n",
      "...........................................................................\n",
      "training accuracy: 31.29% training loss: 0.07457\n",
      "validation accuracy: 30.95% validation loss: 0.10752\n",
      "EPOCH 17\n",
      "...........................................................................\n",
      "training accuracy: 31.35% training loss: 0.06984\n",
      "validation accuracy: 30.94% validation loss: 0.10818\n",
      "EPOCH 18\n",
      "...........................................................................\n",
      "training accuracy: 31.38% training loss: 0.06549\n",
      "validation accuracy: 31.02% validation loss: 0.10153\n",
      "EPOCH 19\n",
      "...........................................................................\n",
      "training accuracy: 31.39% training loss: 0.06170\n",
      "validation accuracy: 31.06% validation loss: 0.09696\n",
      "EPOCH 20\n",
      "...........................................................................\n",
      "training accuracy: 31.45% training loss: 0.05868\n",
      "validation accuracy: 30.96% validation loss: 0.10316\n",
      "EPOCH 21\n",
      "...........................................................................\n",
      "training accuracy: 31.48% training loss: 0.05511\n",
      "validation accuracy: 30.99% validation loss: 0.10201\n",
      "EPOCH 22\n",
      "...........................................................................\n",
      "training accuracy: 31.50% training loss: 0.05239\n",
      "validation accuracy: 31.06% validation loss: 0.09590\n",
      "EPOCH 23\n",
      "...........................................................................\n",
      "training accuracy: 31.53% training loss: 0.04865\n",
      "validation accuracy: 31.09% validation loss: 0.09476\n",
      "EPOCH 24\n",
      "...........................................................................\n",
      "training accuracy: 31.57% training loss: 0.04617\n",
      "validation accuracy: 31.10% validation loss: 0.09571\n",
      "EPOCH 25\n",
      "...........................................................................\n",
      "training accuracy: 31.59% training loss: 0.04393\n",
      "validation accuracy: 31.12% validation loss: 0.08960\n",
      "EPOCH 26\n",
      "...........................................................................\n",
      "training accuracy: 31.61% training loss: 0.04087\n",
      "validation accuracy: 31.13% validation loss: 0.09155\n",
      "EPOCH 27\n",
      "...........................................................................\n",
      "training accuracy: 31.64% training loss: 0.03892\n",
      "validation accuracy: 31.10% validation loss: 0.09629\n",
      "EPOCH 28\n",
      "...........................................................................\n",
      "training accuracy: 31.68% training loss: 0.03674\n",
      "validation accuracy: 31.17% validation loss: 0.08830\n",
      "EPOCH 29\n",
      "...........................................................................\n",
      "training accuracy: 31.67% training loss: 0.03507\n",
      "validation accuracy: 31.13% validation loss: 0.09104\n",
      "EPOCH 30\n",
      "...........................................................................\n",
      "training accuracy: 31.70% training loss: 0.03272\n",
      "validation accuracy: 31.11% validation loss: 0.09206\n",
      "EPOCH 31\n",
      "...........................................................................\n",
      "training accuracy: 31.72% training loss: 0.03098\n",
      "validation accuracy: 31.14% validation loss: 0.09230\n",
      "EPOCH 32\n",
      "...........................................................................\n",
      "training accuracy: 31.75% training loss: 0.02913\n",
      "validation accuracy: 31.16% validation loss: 0.08598\n",
      "EPOCH 33\n",
      "...........................................................................\n",
      "training accuracy: 31.75% training loss: 0.02792\n",
      "validation accuracy: 31.12% validation loss: 0.09429\n",
      "EPOCH 34\n",
      "...........................................................................\n",
      "training accuracy: 31.78% training loss: 0.02626\n",
      "validation accuracy: 31.11% validation loss: 0.09718\n",
      "EPOCH 35\n",
      "...........................................................................\n",
      "training accuracy: 31.79% training loss: 0.02471\n",
      "validation accuracy: 31.17% validation loss: 0.08841\n",
      "EPOCH 36\n",
      "...........................................................................\n",
      "training accuracy: 31.82% training loss: 0.02318\n",
      "validation accuracy: 31.20% validation loss: 0.08518\n",
      "EPOCH 37\n",
      "...........................................................................\n",
      "training accuracy: 31.82% training loss: 0.02209\n",
      "validation accuracy: 31.15% validation loss: 0.09065\n",
      "EPOCH 38\n",
      "...........................................................................\n",
      "training accuracy: 31.84% training loss: 0.02081\n",
      "validation accuracy: 31.23% validation loss: 0.08695\n",
      "EPOCH 39\n",
      "...........................................................................\n",
      "training accuracy: 31.86% training loss: 0.01933\n",
      "validation accuracy: 31.21% validation loss: 0.08847\n",
      "EPOCH 40\n",
      "...........................................................................\n",
      "training accuracy: 31.86% training loss: 0.01852\n",
      "validation accuracy: 31.15% validation loss: 0.09293\n",
      "EPOCH 41\n",
      "...........................................................................\n",
      "training accuracy: 31.87% training loss: 0.01745\n",
      "validation accuracy: 31.21% validation loss: 0.08654\n",
      "EPOCH 42\n",
      "...........................................................................\n",
      "training accuracy: 31.89% training loss: 0.01662\n",
      "validation accuracy: 31.21% validation loss: 0.08930\n",
      "EPOCH 43\n",
      "...........................................................................\n",
      "training accuracy: 31.89% training loss: 0.01547\n",
      "validation accuracy: 31.20% validation loss: 0.08944\n",
      "EPOCH 44\n"
     ]
    },
    {
     "name": "stdout",
     "output_type": "stream",
     "text": [
      "...........................................................................\n",
      "training accuracy: 31.90% training loss: 0.01492\n",
      "validation accuracy: 31.23% validation loss: 0.08725\n",
      "EPOCH 45\n",
      "...........................................................................\n",
      "training accuracy: 31.91% training loss: 0.01368\n",
      "validation accuracy: 31.21% validation loss: 0.09116\n",
      "EPOCH 46\n",
      "...........................................................................\n",
      "training accuracy: 31.92% training loss: 0.01306\n",
      "validation accuracy: 31.19% validation loss: 0.08960\n",
      "EPOCH 47\n",
      "...........................................................................\n",
      "training accuracy: 31.92% training loss: 0.01231\n",
      "validation accuracy: 31.19% validation loss: 0.08811\n",
      "EPOCH 48\n",
      "...........................................................................\n",
      "training accuracy: 31.94% training loss: 0.01146\n",
      "validation accuracy: 31.20% validation loss: 0.08850\n",
      "EPOCH 49\n",
      "...........................................................................\n",
      "training accuracy: 31.94% training loss: 0.01102\n",
      "validation accuracy: 31.21% validation loss: 0.09100\n"
     ]
    }
   ],
   "source": [
    "num_epochs = 50\n",
    "\n",
    "# Establish a list for our history\n",
    "train_loss_history = list()\n",
    "val_loss_history = list()\n",
    "\n",
    "for epoch in range(num_epochs):\n",
    "    print('EPOCH', epoch)\n",
    "    net.train()\n",
    "    train_loss = 0.0\n",
    "    train_correct = 0\n",
    "    for i, data in enumerate(train_loader):\n",
    "        # data is a list of [inputs, labels]\n",
    "        inputs, labels = data\n",
    "\n",
    "        # Pass to GPU if available.\n",
    "        inputs, labels = inputs.to(device), labels.to(device)\n",
    "\n",
    "        optimizer.zero_grad()\n",
    "\n",
    "        outputs = net(inputs)\n",
    "        loss = criterion(outputs, labels)\n",
    "        loss.backward()\n",
    "        optimizer.step()\n",
    "\n",
    "        preds = outputs.argmax(dim=1, keepdim=True)\n",
    "        train_correct += preds.eq(labels.view_as(preds)).sum().item()\n",
    "        train_loss += loss.item()\n",
    "        if not i % 20:\n",
    "            print('.', end='', flush=True)        \n",
    "    print(f'\\ntraining accuracy: {train_correct/len(train_loader):.2f}% training loss: {train_loss/len(train_loader):.5f}')\n",
    "    train_loss_history.append(train_loss/len(train_loader))\n",
    "\n",
    "\n",
    "    val_loss = 0.0\n",
    "    val_correct = 0\n",
    "    net.eval()\n",
    "    for inputs, labels in val_loader:\n",
    "        inputs, labels = inputs.to(device), labels.to(device)\n",
    "\n",
    "        outputs = net(inputs)\n",
    "        loss = criterion(outputs, labels)\n",
    "\n",
    "        preds = outputs.argmax(dim=1, keepdim=True)\n",
    "        val_correct += preds.eq(labels.view_as(preds)).sum().item()\n",
    "        val_loss += loss.item()\n",
    "        if not i % 20:\n",
    "            print('.', end='', flush=True)\n",
    "    val_loss_history.append(val_loss/len(val_loader))\n",
    "    print(f'validation accuracy: {val_correct/len(val_loader):.2f}% validation loss: {val_loss/len(val_loader):.5f}')\n",
    "    "
   ]
  },
  {
   "cell_type": "markdown",
   "metadata": {},
   "source": [
    "Plot the training loss (and validation loss/accuracy, if recorded)."
   ]
  },
  {
   "cell_type": "code",
   "execution_count": 16,
   "metadata": {
    "scrolled": false
   },
   "outputs": [
    {
     "data": {
      "image/png": "[encoded data removed]",
      "text/plain": [
       "<Figure size 432x288 with 1 Axes>"
      ]
     },
     "metadata": {
      "needs_background": "light"
     },
     "output_type": "display_data"
    }
   ],
   "source": [
    "# Plot the training and validation loss history\n",
    "plt.plot(train_loss_history, label=\"Training Loss\")\n",
    "plt.plot(val_loss_history, label=\"Validation Loss\")\n",
    "plt.legend()\n",
    "plt.show()"
   ]
  },
  {
   "cell_type": "markdown",
   "metadata": {},
   "source": [
    "## Testing your model\n",
    "Using the previously created `DataLoader` for the test set, compute the percentage of correct predictions using the highest probability prediction. \n",
    "\n",
    "If your accuracy is over 90%, great work, but see if you can push a bit further! \n",
    "If your accuracy is under 90%, you'll need to make improvements.\n",
    "Go back and check your model architecture, loss function, and optimizer to make sure they're appropriate for an image classification task."
   ]
  },
  {
   "cell_type": "code",
   "execution_count": 17,
   "metadata": {
    "scrolled": false
   },
   "outputs": [],
   "source": [
    "def testing(model, criterion):\n",
    "    test_loss = 0.0\n",
    "    correct   = 0.0\n",
    "    total     = 0.0\n",
    "    \n",
    "    for batch_idx, (data, target) in enumerate(test_loader):\n",
    "        # move to GPU\n",
    "        if torch.cuda.is_available():\n",
    "            data, target = data.cuda(), target.cuda()\n",
    "        # forward pass\n",
    "        output = model(data)\n",
    "        loss = criterion(output, target)\n",
    "        # update average test loss\n",
    "        test_loss = test_loss + ((1 / (batch_idx + 1)) * (loss.data - test_loss))\n",
    "        # convert output probabilities to predicted class\n",
    "        pred = output.data.max(1, keepdim=True)[1]\n",
    "        # compare predictions to true label\n",
    "        correct += np.sum(np.squeeze(pred.eq(target.data.view_as(pred))).cpu().numpy())\n",
    "        total   += data.size(0)\n",
    "        \n",
    "    print('Test Loss: {:.6f}'.format(test_loss))\n",
    "    print('Test Accuracy: %2d%% (%2d/%2d)' % (100. * correct / total, correct, total))"
   ]
  },
  {
   "cell_type": "code",
   "execution_count": 18,
   "metadata": {},
   "outputs": [
    {
     "name": "stdout",
     "output_type": "stream",
     "text": [
      "Test Loss: 0.077216\n",
      "Test Accuracy: 97% (9771/10000)\n"
     ]
    }
   ],
   "source": [
    "testing(net, criterion)"
   ]
  },
  {
   "cell_type": "markdown",
   "metadata": {},
   "source": [
    "## Improving your model\n",
    "\n",
    "Once your model is done training, try tweaking your hyperparameters and training again below to improve your accuracy on the test set!"
   ]
  },
  {
   "cell_type": "code",
   "execution_count": 22,
   "metadata": {
    "scrolled": true
   },
   "outputs": [
    {
     "name": "stdout",
     "output_type": "stream",
     "text": [
      "EPOCH 0\n",
      "...........................................................................\n",
      "training accuracy: 30.57% training loss: 0.14619\n",
      "validation accuracy: 30.55% validation loss: 0.16088\n",
      "EPOCH 1\n",
      "...........................................................................\n",
      "training accuracy: 30.83% training loss: 0.11401\n",
      "validation accuracy: 30.78% validation loss: 0.12953\n",
      "EPOCH 2\n",
      "...........................................................................\n",
      "training accuracy: 30.96% training loss: 0.09766\n",
      "validation accuracy: 30.72% validation loss: 0.14009\n",
      "EPOCH 3\n",
      "...........................................................................\n",
      "training accuracy: 31.07% training loss: 0.08972\n",
      "validation accuracy: 30.77% validation loss: 0.13707\n",
      "EPOCH 4\n",
      "...........................................................................\n",
      "training accuracy: 31.14% training loss: 0.08226\n",
      "validation accuracy: 30.98% validation loss: 0.11680\n",
      "EPOCH 5\n",
      "...........................................................................\n",
      "training accuracy: 31.24% training loss: 0.07400\n",
      "validation accuracy: 30.89% validation loss: 0.12561\n",
      "EPOCH 6\n",
      "...........................................................................\n",
      "training accuracy: 31.25% training loss: 0.07055\n",
      "validation accuracy: 30.82% validation loss: 0.13591\n",
      "EPOCH 7\n",
      "...........................................................................\n",
      "training accuracy: 31.31% training loss: 0.06285\n",
      "validation accuracy: 30.87% validation loss: 0.13544\n",
      "EPOCH 8\n",
      "...........................................................................\n",
      "training accuracy: 31.37% training loss: 0.05873\n",
      "validation accuracy: 30.91% validation loss: 0.13734\n",
      "EPOCH 9\n",
      "...........................................................................\n",
      "training accuracy: 31.44% training loss: 0.05371\n",
      "validation accuracy: 30.99% validation loss: 0.12301\n",
      "EPOCH 10\n",
      "...........................................................................\n",
      "training accuracy: 31.48% training loss: 0.04912\n",
      "validation accuracy: 30.67% validation loss: 0.16336\n",
      "EPOCH 11\n",
      "...........................................................................\n",
      "training accuracy: 31.48% training loss: 0.04826\n",
      "validation accuracy: 31.01% validation loss: 0.12662\n",
      "EPOCH 12\n",
      "...........................................................................\n",
      "training accuracy: 31.48% training loss: 0.04989\n",
      "validation accuracy: 31.08% validation loss: 0.12114\n",
      "EPOCH 13\n",
      "...........................................................................\n",
      "training accuracy: 31.56% training loss: 0.04302\n",
      "validation accuracy: 31.12% validation loss: 0.10967\n",
      "EPOCH 14\n",
      "...........................................................................\n",
      "training accuracy: 31.60% training loss: 0.03820\n",
      "validation accuracy: 31.09% validation loss: 0.12770\n",
      "EPOCH 15\n",
      "...........................................................................\n",
      "training accuracy: 31.54% training loss: 0.04315\n",
      "validation accuracy: 31.09% validation loss: 0.13098\n",
      "EPOCH 16\n",
      "...........................................................................\n",
      "training accuracy: 31.57% training loss: 0.04073\n",
      "validation accuracy: 31.07% validation loss: 0.13048\n",
      "EPOCH 17\n",
      "...........................................................................\n",
      "training accuracy: 31.63% training loss: 0.03466\n",
      "validation accuracy: 31.16% validation loss: 0.12316\n",
      "EPOCH 18\n",
      "...........................................................................\n",
      "training accuracy: 31.63% training loss: 0.03532\n",
      "validation accuracy: 31.10% validation loss: 0.13489\n",
      "EPOCH 19\n",
      "...........................................................................\n",
      "training accuracy: 31.66% training loss: 0.03192\n",
      "validation accuracy: 31.19% validation loss: 0.12682\n",
      "EPOCH 20\n",
      "...........................................................................\n",
      "training accuracy: 31.68% training loss: 0.03011\n",
      "validation accuracy: 31.18% validation loss: 0.12580\n",
      "EPOCH 21\n",
      "...........................................................................\n",
      "training accuracy: 31.69% training loss: 0.02932\n",
      "validation accuracy: 30.97% validation loss: 0.16117\n",
      "EPOCH 22\n",
      "...........................................................................\n",
      "training accuracy: 31.70% training loss: 0.02858\n",
      "validation accuracy: 31.05% validation loss: 0.14765\n",
      "EPOCH 23\n",
      "...........................................................................\n",
      "training accuracy: 31.65% training loss: 0.03210\n",
      "validation accuracy: 31.18% validation loss: 0.12735\n",
      "EPOCH 24\n",
      "...........................................................................\n",
      "training accuracy: 31.72% training loss: 0.02664\n",
      "validation accuracy: 31.11% validation loss: 0.14671\n",
      "EPOCH 25\n",
      "...........................................................................\n",
      "training accuracy: 31.69% training loss: 0.02910\n",
      "validation accuracy: 30.85% validation loss: 0.19400\n",
      "EPOCH 26\n",
      "...........................................................................\n",
      "training accuracy: 31.73% training loss: 0.02518\n",
      "validation accuracy: 31.15% validation loss: 0.16181\n",
      "EPOCH 27\n",
      "...........................................................................\n",
      "training accuracy: 31.74% training loss: 0.02530\n",
      "validation accuracy: 31.13% validation loss: 0.15567\n",
      "EPOCH 28\n",
      "...........................................................................\n",
      "training accuracy: 31.74% training loss: 0.02471\n",
      "validation accuracy: 31.00% validation loss: 0.18298\n",
      "EPOCH 29\n",
      "...........................................................................\n",
      "training accuracy: 31.73% training loss: 0.02453\n",
      "validation accuracy: 30.95% validation loss: 0.19379\n",
      "EPOCH 30\n",
      "...........................................................................\n",
      "training accuracy: 31.74% training loss: 0.02471\n",
      "validation accuracy: 31.20% validation loss: 0.15178\n",
      "EPOCH 31\n",
      "...........................................................................\n",
      "training accuracy: 31.78% training loss: 0.02248\n",
      "validation accuracy: 31.06% validation loss: 0.17761\n",
      "EPOCH 32\n",
      "...........................................................................\n",
      "training accuracy: 31.75% training loss: 0.02611\n",
      "validation accuracy: 31.08% validation loss: 0.17153\n",
      "EPOCH 33\n",
      "...........................................................................\n",
      "training accuracy: 31.78% training loss: 0.02137\n",
      "validation accuracy: 31.12% validation loss: 0.15566\n",
      "EPOCH 34\n",
      "...........................................................................\n",
      "training accuracy: 31.75% training loss: 0.02517\n",
      "validation accuracy: 31.07% validation loss: 0.19449\n",
      "EPOCH 35\n",
      "...........................................................................\n",
      "training accuracy: 31.79% training loss: 0.02002\n",
      "validation accuracy: 31.04% validation loss: 0.18938\n",
      "EPOCH 36\n",
      "...........................................................................\n",
      "training accuracy: 31.76% training loss: 0.02218\n",
      "validation accuracy: 30.98% validation loss: 0.20902\n",
      "EPOCH 37\n",
      "...........................................................................\n",
      "training accuracy: 31.79% training loss: 0.02313\n",
      "validation accuracy: 31.17% validation loss: 0.17723\n",
      "EPOCH 38\n",
      "...........................................................................\n",
      "training accuracy: 31.81% training loss: 0.01802\n",
      "validation accuracy: 31.05% validation loss: 0.21230\n",
      "EPOCH 39\n",
      "...........................................................................\n",
      "training accuracy: 31.82% training loss: 0.01838\n",
      "validation accuracy: 31.11% validation loss: 0.19310\n",
      "EPOCH 40\n",
      "...........................................................................\n",
      "training accuracy: 31.77% training loss: 0.02245\n",
      "validation accuracy: 31.18% validation loss: 0.17444\n",
      "EPOCH 41\n",
      "...........................................................................\n",
      "training accuracy: 31.80% training loss: 0.02114\n",
      "validation accuracy: 31.23% validation loss: 0.18156\n",
      "EPOCH 42\n",
      "...........................................................................\n",
      "training accuracy: 31.82% training loss: 0.01836\n",
      "validation accuracy: 31.13% validation loss: 0.19325\n",
      "EPOCH 43\n",
      "...........................................................................\n",
      "training accuracy: 31.81% training loss: 0.02126\n",
      "validation accuracy: 31.13% validation loss: 0.20119\n",
      "EPOCH 44\n"
     ]
    },
    {
     "name": "stdout",
     "output_type": "stream",
     "text": [
      "...........................................................................\n",
      "training accuracy: 31.82% training loss: 0.01775\n",
      "validation accuracy: 31.20% validation loss: 0.18895\n",
      "EPOCH 45\n",
      "...........................................................................\n",
      "training accuracy: 31.81% training loss: 0.01889\n",
      "validation accuracy: 31.09% validation loss: 0.22970\n",
      "EPOCH 46\n",
      "...........................................................................\n",
      "training accuracy: 31.82% training loss: 0.01981\n",
      "validation accuracy: 31.20% validation loss: 0.18477\n",
      "EPOCH 47\n",
      "...........................................................................\n",
      "training accuracy: 31.82% training loss: 0.01884\n",
      "validation accuracy: 31.09% validation loss: 0.20566\n",
      "EPOCH 48\n",
      "...........................................................................\n",
      "training accuracy: 31.82% training loss: 0.01787\n",
      "validation accuracy: 31.20% validation loss: 0.18397\n",
      "EPOCH 49\n",
      "...........................................................................\n",
      "training accuracy: 31.83% training loss: 0.01645\n",
      "validation accuracy: 31.09% validation loss: 0.21287\n"
     ]
    }
   ],
   "source": [
    "criterion = nn.CrossEntropyLoss()\n",
    "optimizer = optim.Adam(net.parameters(), lr=0.001)\n",
    "\n",
    "num_epochs = 50\n",
    "\n",
    "# Establish a list for our history\n",
    "train_loss_history = list()\n",
    "val_loss_history = list()\n",
    "\n",
    "for epoch in range(num_epochs):\n",
    "    print('EPOCH', epoch)\n",
    "    net.train()\n",
    "    train_loss = 0.0\n",
    "    train_correct = 0\n",
    "    for i, data in enumerate(train_loader):\n",
    "        # data is a list of [inputs, labels]\n",
    "        inputs, labels = data\n",
    "\n",
    "        # Pass to GPU if available.\n",
    "        inputs, labels = inputs.to(device), labels.to(device)\n",
    "\n",
    "        optimizer.zero_grad()\n",
    "\n",
    "        outputs = net(inputs)\n",
    "        loss = criterion(outputs, labels)\n",
    "        loss.backward()\n",
    "        optimizer.step()\n",
    "\n",
    "        preds = outputs.argmax(dim=1, keepdim=True)\n",
    "        train_correct += preds.eq(labels.view_as(preds)).sum().item()\n",
    "        train_loss += loss.item()\n",
    "        if not i % 20:\n",
    "            print('.', end='', flush=True)        \n",
    "    print(f'\\ntraining accuracy: {train_correct/len(train_loader):.2f}% training loss: {train_loss/len(train_loader):.5f}')\n",
    "    train_loss_history.append(train_loss/len(train_loader))\n",
    "\n",
    "\n",
    "    val_loss = 0.0\n",
    "    val_correct = 0\n",
    "    net.eval()\n",
    "    for inputs, labels in val_loader:\n",
    "        inputs, labels = inputs.to(device), labels.to(device)\n",
    "\n",
    "        outputs = net(inputs)\n",
    "        loss = criterion(outputs, labels)\n",
    "\n",
    "        preds = outputs.argmax(dim=1, keepdim=True)\n",
    "        val_correct += preds.eq(labels.view_as(preds)).sum().item()\n",
    "        val_loss += loss.item()\n",
    "        if not i % 20:\n",
    "            print('.', end='', flush=True)\n",
    "    val_loss_history.append(val_loss/len(val_loader))\n",
    "    print(f'validation accuracy: {val_correct/len(val_loader):.2f}% validation loss: {val_loss/len(val_loader):.5f}')\n",
    "    "
   ]
  },
  {
   "cell_type": "code",
   "execution_count": 23,
   "metadata": {},
   "outputs": [
    {
     "data": {
      "image/png": "[encoded data removed]",
      "text/plain": [
       "<Figure size 432x288 with 1 Axes>"
      ]
     },
     "metadata": {
      "needs_background": "light"
     },
     "output_type": "display_data"
    }
   ],
   "source": [
    "# Plot the training and validation loss history\n",
    "plt.plot(train_loss_history, label=\"Training Loss\")\n",
    "plt.plot(val_loss_history, label=\"Validation Loss\")\n",
    "plt.legend()\n",
    "plt.show()"
   ]
  },
  {
   "cell_type": "markdown",
   "metadata": {},
   "source": [
    "## Saving your model\n",
    "Using `torch.save`, save your model for future loading."
   ]
  },
  {
   "cell_type": "code",
   "execution_count": 25,
   "metadata": {
    "scrolled": false
   },
   "outputs": [
    {
     "name": "stdout",
     "output_type": "stream",
     "text": [
      "Model saved to mnist_model.pt\n"
     ]
    }
   ],
   "source": [
    "# Specify the file path where you want to save the model\n",
    "model_path = 'mnist_model.pt'\n",
    "\n",
    "# Save the model\n",
    "torch.save(net.state_dict(), model_path)\n",
    "\n",
    "print(f\"Model saved to {model_path}\")"
   ]
  },
  {
   "cell_type": "code",
   "execution_count": null,
   "metadata": {},
   "outputs": [],
   "source": []
  }
 ],
 "metadata": {
  "kernelspec": {
   "display_name": "Python 3",
   "language": "python",
   "name": "python3"
  },
  "language_info": {
   "codemirror_mode": {
    "name": "ipython",
    "version": 3
   },
   "file_extension": ".py",
   "mimetype": "text/x-python",
   "name": "python",
   "nbconvert_exporter": "python",
   "pygments_lexer": "ipython3",
   "version": "3.7.6"
  }
 },
 "nbformat": 4,
 "nbformat_minor": 4
}
